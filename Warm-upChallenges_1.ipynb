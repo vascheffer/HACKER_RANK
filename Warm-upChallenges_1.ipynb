{
 "cells": [
  {
   "cell_type": "markdown",
   "metadata": {},
   "source": [
    "## Sobre\n",
    "\n",
    "<p> O site <a href=\"https://www.hackerrank.com/\">https://www.hackerrank.com/</a> é uma ótima opção para quem deseja treinar suas habilidades de programação. Algumas empresas o utilizam como processo seletivo, portanto, se almeja entrar nesse universo, prepare-se fazendo os desafios.</p>\n",
    "\n",
    "<img src=\"https://www.hackerrank.com/wp-content/uploads/2018/11/hackerrank_share-image_0_default.png\" width=\"60%\">"
   ]
  },
  {
   "cell_type": "markdown",
   "metadata": {},
   "source": [
    "## Conteúdo desse notebook\n",
    "\n",
    "<p>Nesse notebook, utilizando a linguagem Python, apresento e resolvo o desafio Sock Merchant (vendedor de meias) que faz parte dos desafios de aquecimento, presente no kit de preparação para entrevistas. Tal problema foi proposto por Shafaet Ashraf, da universidade de Dhaka.</p>"
   ]
  },
  {
   "cell_type": "markdown",
   "metadata": {},
   "source": [
    "### O desafio\n",
    "\n",
    "<p>\n",
    "John trabalha em uma loja de roupas. Ele tem uma grande pilha de meias que ele deve separar os pares por cor para venda. Dada um vetor de inteiros, no qual cada elemento representa a cor de cada meia, determine quantos pares de meias podem ser formados com as cores correspondentes.\n",
    "</p>\n",
    "<p>\n",
    "Exemplo: considerando o array meias=[1,2,1,2,1,3,2], seria possível formar dois pares de meias (um par de cor 1 e, um par de cor 2) e sobrariam três meias (uma de cor 1, uma de cor 2 e, uma de cor 3). \n",
    "</p>\n",
    "\n",
    "<p>\n",
    "Parâmetros:\n",
    "    <ul>\n",
    "        <li>n: número de meias na pilha (Opcional).</li>\n",
    "        <li>meias: vetor de cores de cada meia.</li>\n",
    "    </ul>\n",
    "\n",
    "</p>\n",
    "\n",
    "<p>\n",
    "Saída:\n",
    "    <ul>\n",
    "        <li>número de pares de meias que foi possível formar para venda.</li>\n",
    "    </ul>\n",
    "</p>\n",
    "\n",
    "<p>\n",
    "Exemplo: <br/>\n",
    "    * Entrada: <br/>\n",
    "    * n = 9 <br/>\n",
    "    * meias=[10, 20, 20, 10, 10, 30, 50, 10, 20] <br/>\n",
    "    <br/>\n",
    "    * Saída = 3\n",
    "</p>"
   ]
  },
  {
   "cell_type": "markdown",
   "metadata": {},
   "source": [
    "## A solução\n",
    "\n",
    "<p>Vou apresentar duas soluções diferentes, uma mais \"tradicional\" na qual programadores de linguagens como Java, C#, etc irão se sentir familiarizados. A segunda solução é mais \"Pythonica\".</p>\n"
   ]
  },
  {
   "cell_type": "markdown",
   "metadata": {},
   "source": [
    "### Solução 1\n",
    "\n",
    "\n",
    "<p>Linha 1 - A solução foi implementada em uma função chamada separar_meias. Tal função recebe como parâmetro um vetor em que cada elemento representa uma cor.</p>\n",
    "\n",
    "<p>Linha 2 - O vetor foi transformado em uma estrutura de dados do tipo set. Essa estrutura armazena valores únicos (não repetidos) e de forma ordenada.</p>\n",
    "\n",
    "<p>Linha 3 - Variável que irá armazenar a quantidade de pares.</p>\n",
    "\n",
    "<p>Linha 4 - Estrutura de repetição que percorrerá cada elemento do conjunto de valores únicos (ideia é percorrer cada \"cor\").</p>\n",
    "\n",
    "<p>Linha 5 - Verifica se existe mais de uma ocorrência da cor no vetor, caso exista vai para a linha 6, caso não exista vai para a linha 7.</p>\n",
    "\n",
    "<p>Linha 6 - Divide a quantidade total de ocorrência de uma determinada cor por 2 e armazena somente a parte inteira (nesse momento está armazenando o quociente da divisão). Por exemplo, imagine 5 / 2. O quociente da divisão é 2.5, ou seja, dois pares e meio, porém com a utilização do int() somente a parte inteira é guardada. A variável n_pars é acumulativa, ou seja, o cálculo será feito para todas as cores, a cada iteração o valor é acumulado.</p>\n",
    "\n",
    "<p>Linha 7 - Retorno da função.</p>\n",
    "\n",
    "<p>Linha 10 - Criação do vetor de cores. </p>\n",
    "\n",
    "<p>Linha 11 - Chamada da função, passando como parâmetro o vetor de meias.</p>"
   ]
  },
  {
   "cell_type": "code",
   "execution_count": 4,
   "metadata": {},
   "outputs": [
    {
     "data": {
      "text/plain": [
       "4"
      ]
     },
     "execution_count": 4,
     "metadata": {},
     "output_type": "execute_result"
    }
   ],
   "source": [
    "def separar_meias(vetor):\n",
    "    colors = set(vetor)\n",
    "    n_pars = 0\n",
    "    for color in colors:\n",
    "        if(vetor.count(color) > 1):\n",
    "            n_pars+=int(vetor.count(color) / 2)\n",
    "    return n_pars\n",
    "\n",
    "\n",
    "meias = [1, 2, 1, 2, 1, 3, 2, 1, 1, 2]\n",
    "separar_meias(meias)"
   ]
  },
  {
   "cell_type": "markdown",
   "metadata": {},
   "source": [
    "### Solução 2\n",
    "\n",
    "<p>Linha 1 - Da biblioteca collections importamos o método Counter. Tal método recebe uma lista e retorna um dicionário com a quantidade de cada elemento.</p>\n",
    "\n",
    "<p>Linha 3 - A solução foi implementada em uma função chamada separar_meias. Tal função recebe como parâmetro um vetor em que cada elemento representa uma cor.</p>\n",
    "\n",
    "<p>Linha 4 - Guardamos na variável meias o dicionário resultante do método Counter e inicializamos a variável n_pars com zero.</p>\n",
    "\n",
    "<p>Linha 5 - Estrutura de repetição que percorrerá cada elemento do dicionário (ideia é percorrer cada \"cor\").</p>\n",
    "\n",
    "<p>Linha 6 - Percorre o dicionário meias e para cada cor (que são chaves) utiliza o operador matemático // para dividir por 2 e já pegar a parte inteira. A variável n_pars é acumulativa e vai somando as partes inteiras da divisão.</p>\n",
    "\n",
    "<p>Linha 7 - Retorno da função.</p>\n",
    "\n",
    "<p>Linha 9 - Chamada da função, passando como parâmetro uma lista de cores.</p>"
   ]
  },
  {
   "cell_type": "code",
   "execution_count": 5,
   "metadata": {},
   "outputs": [
    {
     "data": {
      "text/plain": [
       "4"
      ]
     },
     "execution_count": 5,
     "metadata": {},
     "output_type": "execute_result"
    }
   ],
   "source": [
    "from collections import Counter\n",
    "\n",
    "def separar_meias(vetor):\n",
    "    meias, n_pars = Counter(vetor), 0\n",
    "    for cor in meias:\n",
    "        n_pars+= meias[cor] // 2\n",
    "    return n_pars\n",
    "\n",
    "separar_meias([1, 2, 1, 2, 1, 3, 2, 1, 1, 2])"
   ]
  },
  {
   "cell_type": "markdown",
   "metadata": {},
   "source": [
    "### Extra\n",
    "\n",
    "<p>Veja abaixo, como o método Counter retorna a contagem dos elementos da lista.</p>"
   ]
  },
  {
   "cell_type": "code",
   "execution_count": 15,
   "metadata": {},
   "outputs": [
    {
     "data": {
      "text/plain": [
       "Counter({-7: 3, 2: 2, 4: 5, 11: 1})"
      ]
     },
     "execution_count": 15,
     "metadata": {},
     "output_type": "execute_result"
    }
   ],
   "source": [
    "Counter([4, 4, 4, 4, 4, 2, 2, -7, -7, -7, 11])"
   ]
  },
  {
   "cell_type": "code",
   "execution_count": null,
   "metadata": {},
   "outputs": [],
   "source": []
  }
 ],
 "metadata": {
  "kernelspec": {
   "display_name": "Python 3",
   "language": "python",
   "name": "python3"
  },
  "language_info": {
   "codemirror_mode": {
    "name": "ipython",
    "version": 3
   },
   "file_extension": ".py",
   "mimetype": "text/x-python",
   "name": "python",
   "nbconvert_exporter": "python",
   "pygments_lexer": "ipython3",
   "version": "3.6.4"
  }
 },
 "nbformat": 4,
 "nbformat_minor": 2
}
